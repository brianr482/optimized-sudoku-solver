{
  "nbformat": 4,
  "nbformat_minor": 0,
  "metadata": {
    "colab": {
      "name": "sudoku-bt.ipynb",
      "provenance": [],
      "collapsed_sections": [],
      "include_colab_link": true
    },
    "kernelspec": {
      "name": "python3",
      "display_name": "Python 3"
    }
  },
  "cells": [
    {
      "cell_type": "markdown",
      "metadata": {
        "id": "view-in-github",
        "colab_type": "text"
      },
      "source": [
        "<a href=\"https://colab.research.google.com/github/brianr482/optimized-sudoku-solver/blob/master/sudoku_bt.ipynb\" target=\"_parent\"><img src=\"https://colab.research.google.com/assets/colab-badge.svg\" alt=\"Open In Colab\"/></a>"
      ]
    },
    {
      "cell_type": "markdown",
      "metadata": {
        "id": "gpeOamroCkJr",
        "colab_type": "text"
      },
      "source": [
        "Integrantes:\n",
        "\n",
        "* Valeria Álvarez\n",
        "* Oskhar Arrieta\n",
        "* Brian Ramírez\n",
        "\n",
        "El resultado se encuentra en el archivo generado al final (logs.txt)\n",
        "\n",
        "Instrucciones\n",
        "1. Se montó una unidad en drive para cargar los archivos y generar el archivo salida. Por lo tanto, se deberá mofificar la variable DRIVE_ROOT_PATH, para que apunte al path donde estarán los archivos cargados.\n",
        "2. Los archivos de prueba se encuentran alojados en la carpeta \"test_files\", estos se deben mover a la ruta montada en drive en el paso 1. \n",
        "3. Se debe correr cada bloque en el orden el que está para que funcione correctamente."
      ]
    },
    {
      "cell_type": "code",
      "metadata": {
        "id": "3HT_wFbB-swY",
        "colab_type": "code",
        "colab": {}
      },
      "source": [
        "# Import libs\n",
        "import numpy as np\n",
        "import math\n",
        "from google.colab import drive\n",
        "drive.mount('/content/drive')\n",
        "DRIVE_ROOT_PATH = '/content/drive/Shared drives/AI/Sudoku Backtracking/'"
      ],
      "execution_count": 0,
      "outputs": []
    },
    {
      "cell_type": "code",
      "metadata": {
        "id": "fsTC1N0gAWKL",
        "colab_type": "code",
        "colab": {}
      },
      "source": [
        "# Read the text file and parse it to a np matrix\n",
        "file = open(f'{DRIVE_ROOT_PATH}unsolvable.txt')\n",
        "parsed_array = []\n",
        "for line in file:\n",
        "  split_line = line.rstrip('\\n').split(',')\n",
        "  parsed_array += [[int(val) if val != '*' else None for val in split_line]]\n",
        "sudoku_state = np.array(parsed_array)\n",
        "BOARD_SIZE = len(sudoku_state[0])"
      ],
      "execution_count": 0,
      "outputs": []
    },
    {
      "cell_type": "code",
      "metadata": {
        "id": "DH4hp4kf_9M-",
        "colab_type": "code",
        "colab": {}
      },
      "source": [
        "# Define finishing constraint checker\n",
        "def finishing_checker(sst):\n",
        "  return not None in sst"
      ],
      "execution_count": 0,
      "outputs": []
    },
    {
      "cell_type": "code",
      "metadata": {
        "id": "o0_GjtzTFN96",
        "colab_type": "code",
        "colab": {}
      },
      "source": [
        "# Define the constraints checker function\n",
        "def constraint_checker(current_sst, value, i, j):\n",
        "  # Validate the row constraint\n",
        "  if value in current_sst[i]:\n",
        "    return False\n",
        "\n",
        "  # Validate the column constraint\n",
        "  if value in current_sst[:, j]:\n",
        "    return False\n",
        "  \n",
        "  # Validate the block constraint\n",
        "  block_i = i // 3\n",
        "  block_j = j // 3\n",
        "  block = current_sst[block_i * 3 : block_i * 3 + 3, block_j * 3 : block_j * 3 + 3]\n",
        "  if value in block:\n",
        "    return False\n",
        "\n",
        "  return True"
      ],
      "execution_count": 0,
      "outputs": []
    },
    {
      "cell_type": "code",
      "metadata": {
        "id": "4YNDOCgKtX0M",
        "colab_type": "code",
        "colab": {}
      },
      "source": [
        "# Generate domain matrix\n",
        "def generate_domains(sst):\n",
        "  domain = np.empty([BOARD_SIZE, BOARD_SIZE], dtype=list)\n",
        "  for i in range(BOARD_SIZE):\n",
        "    for j in range(BOARD_SIZE):\n",
        "      cell_domain = None\n",
        "      if sst[i,j] == None:\n",
        "        cell_domain = list([])\n",
        "        for number in range(1, 10):\n",
        "          if (constraint_checker(sst, number, i, j)):\n",
        "            cell_domain += [number]\n",
        "      domain[i, j] = cell_domain\n",
        "  return domain"
      ],
      "execution_count": 0,
      "outputs": []
    },
    {
      "cell_type": "code",
      "metadata": {
        "id": "lCmyfzNU2kQw",
        "colab_type": "code",
        "colab": {}
      },
      "source": [
        "def get_most_restricted(domain_matrix):\n",
        "  max = math.inf\n",
        "  coord = list([None, None])\n",
        "  for i in range(BOARD_SIZE):\n",
        "    for j in range(BOARD_SIZE):\n",
        "      domain = domain_matrix[i, j]\n",
        "      # print(domain)\n",
        "      if domain != None and len(domain) < max:\n",
        "        max = len(domain)\n",
        "        coord[0] = i\n",
        "        coord[1] = j\n",
        "  return coord if max != math.inf else None"
      ],
      "execution_count": 0,
      "outputs": []
    },
    {
      "cell_type": "code",
      "metadata": {
        "id": "5ZevbCVXAn4Q",
        "colab_type": "code",
        "colab": {}
      },
      "source": [
        "def affected_cells(current_sst, i, j, num, domain_matrix):\n",
        "  affected = 0\n",
        "  visited = list([])\n",
        "  # Check the affected row\n",
        "  row = current_sst[i]\n",
        "  for pos in range(len(row)):\n",
        "    val = row[pos]\n",
        "    if val == None and num in domain_matrix[i, pos]:\n",
        "      affected += 1\n",
        "      visited += [[i, pos]]\n",
        "\n",
        "  # Check the affected column\n",
        "  column = current_sst[:, j]\n",
        "  for pos in range(len(column)):\n",
        "    val = column[pos]\n",
        "    if val == None and num in domain_matrix[pos, j]:\n",
        "      affected += 1\n",
        "      visited += [[pos, j]]\n",
        "  \n",
        "  # Check the affected block\n",
        "  block_i = i // 3  \n",
        "  block_j = j // 3\n",
        "  block = current_sst[block_i * 3 : block_i * 3 + 3, block_j * 3 : block_j * 3 + 3]\n",
        "  for r in range(len(block[0])):\n",
        "    for col in range(len(block[0])):\n",
        "      val = block[r, col]\n",
        "      real_i = r + block_i * 3\n",
        "      real_j = col + block_j * 3\n",
        "      if val == None and not [real_i, real_j] in visited and num in domain_matrix[real_i, real_j]:\n",
        "        affected += 1\n",
        "\n",
        "  return affected"
      ],
      "execution_count": 0,
      "outputs": []
    },
    {
      "cell_type": "code",
      "metadata": {
        "id": "8U6RJ4PYY3eh",
        "colab_type": "code",
        "colab": {}
      },
      "source": [
        "# Find the least restrictive value\n",
        "def get_least_restrictive_value(sst, i, j, options, domain_matrix):\n",
        "  min_affected_cells = math.inf\n",
        "  number = None\n",
        "  for num in options:\n",
        "    aff = affected_cells(sst, i, j, num, domain_matrix)\n",
        "    if aff < min_affected_cells:\n",
        "      min_affected_cells = aff\n",
        "      number = num\n",
        "  return number"
      ],
      "execution_count": 0,
      "outputs": []
    },
    {
      "cell_type": "code",
      "metadata": {
        "id": "hiKFCnRG3aXV",
        "colab_type": "code",
        "colab": {}
      },
      "source": [
        "# Format the sudoku state in order to show it on the log file\n",
        "def display_sudoku_state(sst):\n",
        "  sudoku = list([])\n",
        "  for i in range(BOARD_SIZE):\n",
        "    sudoku += [[]]\n",
        "    for j in range(BOARD_SIZE):\n",
        "      val = sst[i, j]\n",
        "      sudoku[i] += [val if val != None else '*']\n",
        "  return np.array(sudoku)"
      ],
      "execution_count": 0,
      "outputs": []
    },
    {
      "cell_type": "code",
      "metadata": {
        "id": "6lSws2LhDqHn",
        "colab_type": "code",
        "colab": {}
      },
      "source": [
        "# Define backtracking function\n",
        "def solver(sst, domain_matrix, iterations):\n",
        "  most_restricted = get_most_restricted(domain_matrix)\n",
        "  if most_restricted != None:\n",
        "    i = most_restricted[0]\n",
        "    j = most_restricted[1]\n",
        "    options = list(domain_matrix[i, j])\n",
        "    while len(options) > 0:\n",
        "      least_restrictive_value = get_least_restrictive_value(sst, i, j, options, domain_matrix)\n",
        "      new_sst = sst.copy()\n",
        "      new_sst[i, j] = least_restrictive_value\n",
        "      options.remove(least_restrictive_value)\n",
        "      log_file.write(f'Iteration: {iterations} \\n')\n",
        "      log_file.write(f'Most restricted: {most_restricted} \\n')\n",
        "      log_file.write(f'Least restrictive: {least_restrictive_value} \\n')\n",
        "      log_file.write('State: \\n')\n",
        "      log_file.write(np.array2string(display_sudoku_state(new_sst)))\n",
        "      log_file.write('\\n')\n",
        "      log_file.write('\\n')\n",
        "      res = solver(new_sst, generate_domains(new_sst), iterations + 1)\n",
        "\n",
        "      # Find a solution, return it\n",
        "      if type(res) is np.ndarray:\n",
        "        return res\n",
        "  elif finishing_checker(sst):\n",
        "    return sst"
      ],
      "execution_count": 0,
      "outputs": []
    },
    {
      "cell_type": "code",
      "metadata": {
        "id": "w28XNmuNLIir",
        "colab_type": "code",
        "colab": {}
      },
      "source": [
        "log_file = open(f'{DRIVE_ROOT_PATH}logs.txt', 'w')\n",
        "sst = np.array(sudoku_state)\n",
        "domain_matrix = generate_domains(sst)\n",
        "res = solver(sst, domain_matrix, 0)\n",
        "if not type(res) is np.ndarray:\n",
        "  log_file.write('No solution')\n",
        "log_file.close()"
      ],
      "execution_count": 0,
      "outputs": []
    }
  ]
}